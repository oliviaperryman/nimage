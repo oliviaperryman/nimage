{
 "cells": [
  {
   "cell_type": "markdown",
   "metadata": {},
   "source": [
    "# Similarity Training Ensemble on MNIST Dataset "
   ]
  },
  {
   "cell_type": "code",
   "execution_count": 1,
   "metadata": {},
   "outputs": [],
   "source": [
    "import matplotlib.pyplot as plt\n",
    "%matplotlib inline\n",
    "import nengo\n",
    "import numpy as np\n",
    "import scipy.ndimage\n",
    "from scipy.ndimage.interpolation import rotate\n",
    "import matplotlib.animation as animation\n",
    "from matplotlib import pylab\n",
    "from PIL import Image\n",
    "import nengo.spa as spa\n",
    "import pickle\n",
    "import random\n",
    "\n",
    "from nengo_extras.data import load_mnist\n",
    "from nengo_extras.vision import Gabor, Mask\n",
    "\n",
    "from skimage.measure import compare_ssim as ssim"
   ]
  },
  {
   "cell_type": "markdown",
   "metadata": {},
   "source": [
    "Load the MNIST training and testing images"
   ]
  },
  {
   "cell_type": "code",
   "execution_count": 2,
   "metadata": {},
   "outputs": [],
   "source": [
    "# --- load the data\n",
    "img_rows, img_cols = 28, 28\n",
    "\n",
    "(X_train, y_train), (X_test, y_test) = load_mnist()\n",
    "\n",
    "X_train = 2 * X_train - 1  # normalize to -1 to 1\n",
    "X_test = 2 * X_test - 1  # normalize to -1 to 1\n"
   ]
  },
  {
   "cell_type": "markdown",
   "metadata": {},
   "source": [
    "## Create array of images and rotated pairs and list of structural similarities\n",
    "Each set of images contains an upright image and an image rotated at random amount"
   ]
  },
  {
   "cell_type": "code",
   "execution_count": 3,
   "metadata": {},
   "outputs": [],
   "source": [
    "random.seed(1)\n",
    "\n",
    "#List of images\n",
    "imgs = X_train.copy()\n",
    "#Rotated images\n",
    "rot_imgs = X_train.copy()\n",
    "for img in rot_imgs:\n",
    "    img[:] = scipy.ndimage.interpolation.rotate(np.reshape(img,(28,28)),\n",
    "                                                random.randint(1,360),reshape=False,mode=\"nearest\").ravel()\n",
    "\n",
    "#List of calculated similarities\n",
    "similarities = np.ndarray((len(imgs),1))\n",
    "for i in range(len(imgs)):\n",
    "    similarities[i] = ssim(imgs[i].reshape(28,28),rot_imgs[i].reshape(28,28))\n",
    "\n",
    "#Remove negative values, doesn't really change output\n",
    "#similarities[similarities<0]=0\n"
   ]
  },
  {
   "cell_type": "code",
   "execution_count": 4,
   "metadata": {},
   "outputs": [
    {
     "name": "stdout",
     "output_type": "stream",
     "text": [
      "[0.10749062]\n"
     ]
    },
    {
     "data": {
      "image/png": "[encoded data removed]",
      "text/plain": [
       "<Figure size 432x288 with 2 Axes>"
      ]
     },
     "metadata": {
      "needs_background": "light"
     },
     "output_type": "display_data"
    }
   ],
   "source": [
    "#Check to see if images and similarity generated correctly\n",
    "index = np.random.randint(1,60000)\n",
    "\n",
    "plt.subplot(121)\n",
    "plt.imshow(np.reshape(imgs[index],(28,28)),cmap=\"gray\")\n",
    "plt.subplot(122)\n",
    "plt.imshow(np.reshape(rot_imgs[index],(28,28)),cmap=\"gray\")\n",
    "\n",
    "#plt.imshow(np.reshape(imgs[index],(28*2,28)),cmap=\"gray\")\n",
    "\n",
    "\n",
    "#similarity = ssim(imgs[index][:28**2].reshape(28,28),imgs[index][28**2:].reshape(28,28))\n",
    "similarity = similarities[index]\n",
    "print(similarity)"
   ]
  },
  {
   "cell_type": "markdown",
   "metadata": {},
   "source": [
    "## The Network\n",
    "- The network parameters must be the same here as when the weight matrices are used later on\n",
    "- The network is made up of an ensemble and a node\n",
    "  - The connection (to v) computes the weights from the activities of the images to their similarites\n",
    "- Network is the same as was used for training rotation so that it can be used later on.\n",
    "  \n",
    "  "
   ]
  },
  {
   "cell_type": "code",
   "execution_count": 5,
   "metadata": {},
   "outputs": [
    {
     "data": {
      "text/plain": [
       "(60000, 784)"
      ]
     },
     "execution_count": 5,
     "metadata": {},
     "output_type": "execute_result"
    }
   ],
   "source": [
    "X_train.shape"
   ]
  },
  {
   "cell_type": "code",
   "execution_count": 6,
   "metadata": {},
   "outputs": [
    {
     "data": {
      "text/plain": [
       "<matplotlib.image.AxesImage at 0x1c59426bec8>"
      ]
     },
     "execution_count": 6,
     "metadata": {},
     "output_type": "execute_result"
    },
    {
     "data": {
      "image/png": "[encoded data removed]",
      "text/plain": [
       "<Figure size 432x288 with 1 Axes>"
      ]
     },
     "metadata": {
      "needs_background": "light"
     },
     "output_type": "display_data"
    }
   ],
   "source": [
    "rng = np.random.RandomState(9)\n",
    "\n",
    "# --- set up network parameters\n",
    "#Want to map from images to similarity\n",
    "n_vis = X_train.shape[1] #imgs.shape[1]\n",
    "n_out =  similarities.shape[1]\n",
    "#number of neurons/dimensions of semantic pointer\n",
    "n_hid = 5000 #Try with more neurons for more accuracy-\n",
    "\n",
    "\n",
    "#Want the encoding/decoding done on the training images\n",
    "ens_params = dict(\n",
    "    eval_points=X_train, #imgs, \n",
    "    neuron_type=nengo.LIF(), #originally used LIFRate()\n",
    "    intercepts=nengo.dists.Choice([-0.5]),\n",
    "    max_rates=nengo.dists.Choice([100]),\n",
    "    )\n",
    "\n",
    "\n",
    "#Least-squares solver with L2 regularization.\n",
    "solver = nengo.solvers.LstsqL2(reg=0.01)\n",
    "#solver = nengo.solvers.LstsqL2(reg=0.0001)\n",
    "\n",
    "#network that generates the weight matrices between neuron activity and images and the labels\n",
    "with nengo.Network(seed=3) as model:\n",
    "    a = nengo.Ensemble(n_hid, n_vis, seed=3, **ens_params)\n",
    "    v = nengo.Node(size_in=n_out)\n",
    "    conn = nengo.Connection(\n",
    "        a, v, synapse=None,\n",
    "        eval_points=imgs, function=similarities,#want the similarities out\n",
    "        solver=solver)\n",
    "    \n",
    "\n",
    "\n",
    "# linear filter used for edge detection as encoders, more plausible for human visual system\n",
    "encoders = Gabor().generate(n_hid, (11, 11), rng=rng)\n",
    "encoders = Mask((28, 28)).populate(encoders, rng=rng, flatten=True)\n",
    "#Set the ensembles encoders to this\n",
    "a.encoders = encoders\n",
    "\n",
    "#Check the encoders were correctly made\n",
    "plt.imshow(encoders[0].reshape(28, 28), vmin=encoders[0].min(), vmax=encoders[0].max(), cmap='gray')\n"
   ]
  },
  {
   "cell_type": "markdown",
   "metadata": {},
   "source": [
    "## Evaluating the network statically\n",
    "- Functions for computing representation of the image at different levels of encoding/decoding\n",
    "- get_outs  returns the output of the network\n",
    "- able to evaluate on many images\n",
    "- no need to run the simulator"
   ]
  },
  {
   "cell_type": "code",
   "execution_count": 7,
   "metadata": {},
   "outputs": [],
   "source": [
    "#Get the neuron activity of an image or group of images (this is the semantic pointer in this case)\n",
    "def get_activities(sim, images):\n",
    "    _, acts = nengo.utils.ensemble.tuning_curves(a, sim, inputs=images)\n",
    "    return acts\n",
    "\n",
    "#Get similarity of activity using dot product\n",
    "def get_dots(imgs):\n",
    "    dots = np.ndarray((60000,1))\n",
    "    for i in range(len(imgs)):\n",
    "        dots[i] = np.dot(imgs[i][:5000],imgs[i][5000:])\n",
    "    \n",
    "    return dots"
   ]
  },
  {
   "cell_type": "markdown",
   "metadata": {},
   "source": [
    "## Simulator\n",
    "- Generate the weight matrices between \n",
    "  - activities of image pairs and structural similarites\n",
    "  - activities of image pairs and dot procut of their activities"
   ]
  },
  {
   "cell_type": "code",
   "execution_count": 8,
   "metadata": {},
   "outputs": [
    {
     "data": {
      "application/vdom.v1+json": {
       "attributes": {},
       "tagName": "div"
      },
      "text/html": [
       "\n",
       "                <script>\n",
       "                    if (Jupyter.version.split(\".\")[0] < 5) {\n",
       "                        var pb = document.getElementById(\"70c3eb04-d36a-4fb6-906b-5e560c294038\");\n",
       "                        var text = document.createTextNode(\n",
       "                            \"HMTL progress bar requires Jupyter Notebook >= \" +\n",
       "                            \"5.0 or Jupyter Lab. Alternatively, you can use \" +\n",
       "                            \"TerminalProgressBar().\");\n",
       "                        pb.parentNode.insertBefore(text, pb);\n",
       "                    }\n",
       "                </script>\n",
       "                <div id=\"70c3eb04-d36a-4fb6-906b-5e560c294038\" style=\"\n",
       "                    width: 100%;\n",
       "                    border: 1px solid #cfcfcf;\n",
       "                    border-radius: 4px;\n",
       "                    text-align: center;\n",
       "                    position: relative;\">\n",
       "                  <div class=\"pb-text\" style=\"\n",
       "                      position: absolute;\n",
       "                      width: 100%;\">\n",
       "                    0%\n",
       "                  </div>\n",
       "                  <div class=\"pb-fill\" style=\"\n",
       "                      background-color: #bdd2e6;\n",
       "                      width: 0%;\">\n",
       "                    <style type=\"text/css\" scoped=\"scoped\">\n",
       "                        @keyframes pb-fill-anim {\n",
       "                            0% { background-position: 0 0; }\n",
       "                            100% { background-position: 100px 0; }\n",
       "                        }\n",
       "                    </style>\n",
       "                    &nbsp;\n",
       "                  </div>\n",
       "                </div>"
      ],
      "text/plain": [
       "HtmlProgressBar cannot be displayed. Please use the TerminalProgressBar. It can be enabled with `nengo.rc.set('progress', 'progress_bar', 'nengo.utils.progress.TerminalProgressBar')`."
      ]
     },
     "metadata": {},
     "output_type": "display_data"
    },
    {
     "data": {
      "application/vdom.v1+json": {
       "attributes": {
        "id": "8d5d2621-cb2c-4e87-a16b-c2cce8b29150",
        "style": {
         "border": "1px solid #cfcfcf",
         "borderRadius": "4px",
         "boxSizing": "border-box",
         "position": "relative",
         "textAlign": "center",
         "width": "100%"
        }
       },
       "children": [
        {
         "attributes": {
          "class": "pb-text",
          "style": {
           "position": "absolute",
           "width": "100%"
          }
         },
         "children": [
          "Build finished in 0:00:07."
         ],
         "tagName": "div"
        },
        {
         "attributes": {
          "class": "pb-fill",
          "style": {
           "animation": "none",
           "backgroundColor": "#bdd2e6",
           "backgroundImage": "none",
           "backgroundSize": "100px 100%",
           "width": "100%"
          }
         },
         "children": [
          {
           "attributes": {
            "scoped": "scoped",
            "type": "text/css"
           },
           "children": [
            "\n                        @keyframes pb-fill-anim {\n                            0% { background-position: 0 0; }\n                            100% { background-position: 100px 0; }\n                        }}"
           ],
           "tagName": "style"
          },
          " "
         ],
         "tagName": "div"
        }
       ],
       "tagName": "div"
      },
      "text/html": [
       "<script>\n",
       "              (function () {\n",
       "                  var root = document.getElementById('70c3eb04-d36a-4fb6-906b-5e560c294038');\n",
       "                  var text = root.getElementsByClassName('pb-text')[0];\n",
       "                  var fill = root.getElementsByClassName('pb-fill')[0];\n",
       "\n",
       "                  text.innerHTML = 'Build finished in 0:00:07.';\n",
       "                  \n",
       "            fill.style.width = '100%';\n",
       "            fill.style.animation = 'pb-fill-anim 2s linear infinite';\n",
       "            fill.style.backgroundSize = '100px 100%';\n",
       "            fill.style.backgroundImage = 'repeating-linear-gradient(' +\n",
       "                '90deg, #bdd2e6, #edf2f8 40%, #bdd2e6 80%, #bdd2e6)';\n",
       "        \n",
       "                  \n",
       "                fill.style.animation = 'none';\n",
       "                fill.style.backgroundImage = 'none';\n",
       "            \n",
       "              })();\n",
       "        </script>"
      ]
     },
     "metadata": {},
     "output_type": "display_data"
    }
   ],
   "source": [
    "with nengo.Simulator(model) as sim:    \n",
    "    \n",
    "    #Neuron activities of different mnist image pairs\n",
    "    orig_acts = get_activities(sim,imgs)\n",
    "    rot_acts = get_activities(sim,rot_imgs)\n",
    "    \n",
    "    acts = np.ndarray((orig_acts.shape[0],orig_acts.shape[1]*2))\n",
    "    for i in range(len(acts)):\n",
    "        acts[i] = np.append(orig_acts[i],rot_acts[i])\n",
    "    \n",
    "\n",
    "    dot_similarities = get_dots(acts)\n",
    "\n",
    "    \n",
    "    #solvers for a learning rule\n",
    "    solver = nengo.solvers.LstsqL2(reg=1e-8)\n",
    "    solver_ssim = nengo.solvers.LstsqL2(reg=1e-8)\n",
    "\n",
    "    #find weight matrix between neuron activity of the original image pair and the dot product of activities\n",
    "    #weights returns a tuple including information about learning process, just want the weight matrix\n",
    "    weights,_ = solver(acts, dot_similarities)\n",
    "    \n",
    "    weights_ssim,_ = solver_ssim(acts,similarities)\n",
    "    \n",
    "    "
   ]
  },
  {
   "cell_type": "markdown",
   "metadata": {},
   "source": [
    "Testing the outputs"
   ]
  },
  {
   "cell_type": "code",
   "execution_count": 14,
   "metadata": {},
   "outputs": [
    {
     "name": "stdout",
     "output_type": "stream",
     "text": [
      "[30487267.41641565]\n",
      "[0.64514074]\n"
     ]
    },
    {
     "data": {
      "image/png": "[encoded data removed]",
      "text/plain": [
       "<Figure size 432x288 with 2 Axes>"
      ]
     },
     "metadata": {
      "needs_background": "light"
     },
     "output_type": "display_data"
    }
   ],
   "source": [
    "test1 = X_test[random.randint(1,10000)]\n",
    "\n",
    "test2 = scipy.ndimage.interpolation.rotate(np.reshape(test1,(28,28)),\n",
    "                                                random.randint(0,0),reshape=False,mode=\"nearest\").ravel()\n",
    "pylab.subplot(121)\n",
    "pylab.imshow(test1.reshape(28,28),cmap='gray')\n",
    "pylab.subplot(122)\n",
    "pylab.imshow(test2.reshape(28,28),cmap='gray')\n",
    "\n",
    "\n",
    "_,act1 = nengo.utils.ensemble.tuning_curves(a, sim, inputs=test1)\n",
    "_,act2 = nengo.utils.ensemble.tuning_curves(a, sim, inputs=test2)\n",
    "\n",
    "act = np.append(act1,act2)\n",
    "\n",
    "\n",
    "print(np.dot(act,weights))\n",
    "print(np.dot(act,weights_ssim))"
   ]
  },
  {
   "cell_type": "markdown",
   "metadata": {},
   "source": [
    "# Saving weight matrices\n"
   ]
  },
  {
   "cell_type": "code",
   "execution_count": 11,
   "metadata": {},
   "outputs": [],
   "source": [
    "filename = \"two_img_similarity_dot_weights\" + str(n_hid*2) +\".p\"\n",
    "pickle.dump(weights.T, open( filename, \"wb\" ) )\n",
    "\n",
    "filename = \"two_img_similarity_ssim_weights\" + str(n_hid*2) +\".p\"\n",
    "pickle.dump(weights_ssim.T, open( filename, \"wb\" ) )\n",
    "\n"
   ]
  }
 ],
 "metadata": {
  "kernelspec": {
   "display_name": "Python 3",
   "language": "python",
   "name": "python3"
  },
  "language_info": {
   "codemirror_mode": {
    "name": "ipython",
    "version": 3
   },
   "file_extension": ".py",
   "mimetype": "text/x-python",
   "name": "python",
   "nbconvert_exporter": "python",
   "pygments_lexer": "ipython3",
   "version": "3.7.6"
  }
 },
 "nbformat": 4,
 "nbformat_minor": 1
}
